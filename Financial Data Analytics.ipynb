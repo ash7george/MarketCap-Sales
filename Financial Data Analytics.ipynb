{
 "cells": [
  {
   "cell_type": "code",
   "execution_count": 56,
   "id": "123c06df-8a18-4348-bcaf-880f05247117",
   "metadata": {},
   "outputs": [
    {
     "name": "stdout",
     "output_type": "stream",
     "text": [
      "<class 'pandas.core.frame.DataFrame'>\n",
      "RangeIndex: 488 entries, 0 to 487\n",
      "Data columns (total 5 columns):\n",
      " #   Column             Non-Null Count  Dtype  \n",
      "---  ------             --------------  -----  \n",
      " 0   S.No.              488 non-null    int64  \n",
      " 1   Name               488 non-null    object \n",
      " 2   Mar Cap - Crore    479 non-null    float64\n",
      " 3   Sales Qtr - Crore  365 non-null    float64\n",
      " 4   Unnamed: 4         94 non-null     float64\n",
      "dtypes: float64(3), int64(1), object(1)\n",
      "memory usage: 19.2+ KB\n",
      "     S.No.              Name  Mar Cap - Crore  Sales Qtr - Crore  Unnamed: 4\n",
      "0        1    Reliance Inds.        583436.72           99810.00         NaN\n",
      "1        2               TCS        563709.84           30904.00         NaN\n",
      "2        3         HDFC Bank        482953.59           20581.27         NaN\n",
      "3        4               ITC        320985.27            9772.02         NaN\n",
      "4        5           H D F C        289497.37           16840.51         NaN\n",
      "..     ...               ...              ...                ...         ...\n",
      "195    202  Shri.City Union.         12995.31            1338.09         NaN\n",
      "196    203    L&T Technology         12942.25                NaN       969.1\n",
      "197    204   Rain Industries         12655.17            3050.81         NaN\n",
      "198    205     Torrent Power         12599.37            2754.64         NaN\n",
      "199    206    Dilip Buildcon         12526.06            1942.12         NaN\n",
      "\n",
      "[200 rows x 5 columns]\n"
     ]
    }
   ],
   "source": [
    "import pandas as pd\n",
    "df=pd.read_csv(\"Financial Analytics UncleanData.csv\")\n",
    "#display(df)\n",
    "df.info()\n",
    "print(df.head(200))"
   ]
  },
  {
   "cell_type": "code",
   "execution_count": 57,
   "id": "9d7df19c-13ed-478e-990f-13f27eb63787",
   "metadata": {},
   "outputs": [],
   "source": [
    "df['Unnamed: 4'] = df['Unnamed: 4'].fillna(0)\n",
    "df['Sales Qtr - Crore'] = df['Sales Qtr - Crore'].fillna(0)\n",
    "df['Sales Qtr - Crore'] = df['Sales Qtr - Crore'].astype(float) + df['Unnamed: 4'].astype(float)"
   ]
  },
  {
   "cell_type": "code",
   "execution_count": 58,
   "id": "125ee448-8b74-4ac2-a835-d98923f82a50",
   "metadata": {},
   "outputs": [
    {
     "name": "stdout",
     "output_type": "stream",
     "text": [
      "     S.No.              Name  Mar Cap - Crore  Sales Qtr - Crore  Unnamed: 4\n",
      "0        1    Reliance Inds.        583436.72           99810.00         0.0\n",
      "1        2               TCS        563709.84           30904.00         0.0\n",
      "2        3         HDFC Bank        482953.59           20581.27         0.0\n",
      "3        4               ITC        320985.27            9772.02         0.0\n",
      "4        5           H D F C        289497.37           16840.51         0.0\n",
      "..     ...               ...              ...                ...         ...\n",
      "195    202  Shri.City Union.         12995.31            1338.09         0.0\n",
      "196    203    L&T Technology         12942.25             969.10       969.1\n",
      "197    204   Rain Industries         12655.17            3050.81         0.0\n",
      "198    205     Torrent Power         12599.37            2754.64         0.0\n",
      "199    206    Dilip Buildcon         12526.06            1942.12         0.0\n",
      "\n",
      "[200 rows x 5 columns]\n"
     ]
    }
   ],
   "source": [
    "print(df.head(200))"
   ]
  },
  {
   "cell_type": "code",
   "execution_count": 59,
   "id": "9d7e3565-96bd-406d-aea0-2b5d1238316b",
   "metadata": {},
   "outputs": [],
   "source": [
    "df = df.drop(columns=['Unnamed: 4'])"
   ]
  },
  {
   "cell_type": "code",
   "execution_count": 60,
   "id": "1a22d43a-b667-4fe0-9b86-536d3b3a6cd6",
   "metadata": {},
   "outputs": [
    {
     "name": "stdout",
     "output_type": "stream",
     "text": [
      "     S.No.              Name  Mar Cap - Crore  Sales Qtr - Crore\n",
      "0        1    Reliance Inds.        583436.72           99810.00\n",
      "1        2               TCS        563709.84           30904.00\n",
      "2        3         HDFC Bank        482953.59           20581.27\n",
      "3        4               ITC        320985.27            9772.02\n",
      "4        5           H D F C        289497.37           16840.51\n",
      "..     ...               ...              ...                ...\n",
      "195    202  Shri.City Union.         12995.31            1338.09\n",
      "196    203    L&T Technology         12942.25             969.10\n",
      "197    204   Rain Industries         12655.17            3050.81\n",
      "198    205     Torrent Power         12599.37            2754.64\n",
      "199    206    Dilip Buildcon         12526.06            1942.12\n",
      "\n",
      "[200 rows x 4 columns]\n"
     ]
    }
   ],
   "source": [
    "print(df.head(200))"
   ]
  },
  {
   "cell_type": "code",
   "execution_count": 61,
   "id": "bf61f231-349a-476c-9609-292297f74770",
   "metadata": {},
   "outputs": [
    {
     "name": "stdout",
     "output_type": "stream",
     "text": [
      "<class 'pandas.core.frame.DataFrame'>\n",
      "RangeIndex: 488 entries, 0 to 487\n",
      "Data columns (total 4 columns):\n",
      " #   Column             Non-Null Count  Dtype  \n",
      "---  ------             --------------  -----  \n",
      " 0   S.No.              488 non-null    int64  \n",
      " 1   Name               488 non-null    object \n",
      " 2   Mar Cap - Crore    479 non-null    float64\n",
      " 3   Sales Qtr - Crore  488 non-null    float64\n",
      "dtypes: float64(2), int64(1), object(1)\n",
      "memory usage: 15.4+ KB\n"
     ]
    }
   ],
   "source": [
    "df.info()"
   ]
  },
  {
   "cell_type": "code",
   "execution_count": 62,
   "id": "13dc3a85-63fb-432a-9fa8-ad8d5c53e4e0",
   "metadata": {},
   "outputs": [],
   "source": [
    "df['Mar Cap - Crore'] = df['Mar Cap - Crore'].fillna('Not Available')\n",
    "df['Sales Qtr - Crore'] = df['Sales Qtr - Crore'].fillna('Not Available')\n"
   ]
  },
  {
   "cell_type": "code",
   "execution_count": 63,
   "id": "27d3713d-d3c4-43f0-807a-7a450b111af3",
   "metadata": {},
   "outputs": [
    {
     "name": "stdout",
     "output_type": "stream",
     "text": [
      "<class 'pandas.core.frame.DataFrame'>\n",
      "RangeIndex: 488 entries, 0 to 487\n",
      "Data columns (total 4 columns):\n",
      " #   Column             Non-Null Count  Dtype  \n",
      "---  ------             --------------  -----  \n",
      " 0   S.No.              488 non-null    int64  \n",
      " 1   Name               488 non-null    object \n",
      " 2   Mar Cap - Crore    488 non-null    object \n",
      " 3   Sales Qtr - Crore  488 non-null    float64\n",
      "dtypes: float64(1), int64(1), object(2)\n",
      "memory usage: 15.4+ KB\n"
     ]
    }
   ],
   "source": [
    "df.info()"
   ]
  },
  {
   "cell_type": "code",
   "execution_count": 64,
   "id": "7bf7983d-b532-4748-95b6-d59e9285b0b2",
   "metadata": {},
   "outputs": [
    {
     "name": "stdout",
     "output_type": "stream",
     "text": [
      "No Duplicate Names found.\n"
     ]
    }
   ],
   "source": [
    "duplicates = df[df['Name'].duplicated()]\n",
    "if not duplicates.empty:\n",
    "    print(\"Duplicate Names found:\")\n",
    "    print(duplicates['Name'].unique())  # Display unique duplicated names\n",
    "else:\n",
    "    print(\"No Duplicate Names found.\")"
   ]
  },
  {
   "cell_type": "code",
   "execution_count": 65,
   "id": "69afae3a-4f43-4a4a-8f0a-3625d0c7fe6e",
   "metadata": {},
   "outputs": [
    {
     "name": "stdout",
     "output_type": "stream",
     "text": [
      "Rows where 'Mar Cap - Crore' is 'Not Available':\n",
      "     S.No.             Name Mar Cap - Crore  Sales Qtr - Crore\n",
      "99     100    Colgate-Palm.   Not Available                0.0\n",
      "147    150  Endurance Tech.   Not Available                0.0\n",
      "193    200  Natl. Aluminium   Not Available                0.0\n",
      "243    250    Mahanagar Gas   Not Available                0.0\n",
      "287    300       Bajaj Corp   Not Available                0.0\n",
      "337    350      ISGEC Heavy   Not Available                0.0\n",
      "387    400              BSE   Not Available                0.0\n",
      "437    450     Force Motors   Not Available                0.0\n",
      "487    500        L T Foods   Not Available                0.0\n",
      "=====================================================================\n",
      "Rows where 'Sales Qtr' is '0':\n",
      "     S.No.              Name Mar Cap - Crore  Sales Qtr - Crore\n",
      "49      50     Bharti Infra.        61776.92                0.0\n",
      "99     100     Colgate-Palm.   Not Available                0.0\n",
      "147    150   Endurance Tech.   Not Available                0.0\n",
      "171    176  Info Edg.(India)        14845.05                0.0\n",
      "185    192     Max Financial        13401.76                0.0\n",
      "193    200   Natl. Aluminium   Not Available                0.0\n",
      "224    231     Bombay Burmah        10864.53                0.0\n",
      "241    248  Sundaram Clayton        10074.36                0.0\n",
      "243    250     Mahanagar Gas   Not Available                0.0\n",
      "258    271      Mahindra CIE         8587.04                0.0\n",
      "287    300        Bajaj Corp   Not Available                0.0\n",
      "314    327      Prism Cement         6176.23                0.0\n",
      "332    345          GE Power          5497.4                0.0\n",
      "337    350       ISGEC Heavy   Not Available                0.0\n",
      "338    351              MMTC          5300.0                0.0\n",
      "370    383       Swan Energy         4721.49                0.0\n",
      "374    387      Shoppers St.         4558.06                0.0\n",
      "379    392   Stand.Chart.PLC         4487.31                0.0\n",
      "387    400               BSE   Not Available                0.0\n",
      "393    406  Ujjivan Fin.Ser.         4293.42                0.0\n",
      "396    409        Jindal Saw         4278.31                0.0\n",
      "398    411       Linde India         4198.33                0.0\n",
      "409    422     JP Associates         4074.37                0.0\n",
      "418    431               HMT          3973.5                0.0\n",
      "424    437  Gayatri Projects         3835.73                0.0\n",
      "437    450      Force Motors   Not Available                0.0\n",
      "446    459     JP Power Ven.          3597.6                0.0\n",
      "451    464     Amber Enterp.         3529.87                0.0\n",
      "459    472   Hind.Construct.         3452.57                0.0\n",
      "487    500         L T Foods   Not Available                0.0\n"
     ]
    }
   ],
   "source": [
    "not_availablemc_rows = df[df['Mar Cap - Crore'] == 'Not Available']\n",
    "if not not_availablemc_rows.empty:\n",
    "    print(\"Rows where 'Mar Cap - Crore' is 'Not Available':\")\n",
    "    print(not_availablemc_rows)\n",
    "    not_availablemc_rows.to_excel('Mar_Cap_Unavailable.xlsx', index=False)\n",
    "else:\n",
    "    print(\"No rows found where 'Mar Cap - Crore' is 'Not Available'.\")\n",
    "\n",
    "print(\"=====================================================================\")\n",
    "\n",
    "\n",
    "not_available_sales_rows = df[df['Sales Qtr - Crore'] == 0]\n",
    "if not not_available_sales_rows.empty:\n",
    "    print(\"Rows where 'Sales Qtr' is '0':\")\n",
    "    print(not_available_sales_rows)\n",
    "    not_available_sales_rows.to_excel('Sales_Qtr_Unavailable.xlsx', index=False) \n",
    "else:\n",
    "    print(\"No rows found where 'Sales Qtr' is '0'.\")\n",
    "\n"
   ]
  },
  {
   "cell_type": "code",
   "execution_count": 66,
   "id": "e1b9376b-fe5c-4cc3-bd45-efe8d9cc219b",
   "metadata": {},
   "outputs": [],
   "source": [
    "df.to_excel('output.xlsx', index=False)"
   ]
  }
 ],
 "metadata": {
  "kernelspec": {
   "display_name": "Python 3 (ipykernel)",
   "language": "python",
   "name": "python3"
  },
  "language_info": {
   "codemirror_mode": {
    "name": "ipython",
    "version": 3
   },
   "file_extension": ".py",
   "mimetype": "text/x-python",
   "name": "python",
   "nbconvert_exporter": "python",
   "pygments_lexer": "ipython3",
   "version": "3.12.1"
  }
 },
 "nbformat": 4,
 "nbformat_minor": 5
}
